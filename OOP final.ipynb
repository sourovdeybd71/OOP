{
 "cells": [
  {
   "cell_type": "code",
   "execution_count": 8,
   "id": "52354a9f",
   "metadata": {},
   "outputs": [],
   "source": [
    "class User:\n",
    "    bank_balance = 0  \n",
    "\n",
    "    def __init__(self, email, password, name, account_number, initial_deposit=0):\n",
    "        self.email = email\n",
    "        self.password = password\n",
    "        self.name = name\n",
    "        self.account_number = account_number\n",
    "        self.balance = initial_deposit\n",
    "        self.transaction_history = []\n",
    "\n",
    "    def deposit(self, amount):\n",
    "        if amount > 0:\n",
    "            self.balance += amount\n",
    "            self.transaction_history.append(f\"Deposited: {amount}\")\n",
    "            User.bank_balance += amount\n",
    "            print(f\"Amount {amount} deposited successfully.\")\n",
    "        else:\n",
    "            print(\"Invalid deposit amount.\")\n",
    "\n",
    "    def withdraw(self, amount):\n",
    "        if 0 < amount <= self.balance:\n",
    "            if amount <= User.bank_balance:\n",
    "                self.balance -= amount\n",
    "                self.transaction_history.append(f\"Withdrawn: {amount}\")\n",
    "                User.bank_balance -= amount\n",
    "                print(f\"Amount {amount} withdrawn successfully.\")\n",
    "            else:\n",
    "                print(\"The bank is bankrupt.\")\n",
    "        else:\n",
    "            print(\"Insufficient balance.\")\n",
    "\n",
    "    def check_balance(self):\n",
    "        print(f\"Available balance: {self.balance}\")\n",
    "\n",
    "    def transfer(self, amount, recipient):\n",
    "        if amount <= self.balance:\n",
    "            if amount <= User.bank_balance:\n",
    "                self.balance -= amount\n",
    "                recipient.balance += amount\n",
    "                self.transaction_history.append(f\"Transferred: {amount} to {recipient.account_number}\")\n",
    "                User.bank_balance -= amount\n",
    "                print(f\"Amount {amount} transferred successfully to {recipient.name}.\")\n",
    "            else:\n",
    "                print(\"The bank is bankrupt. Unable to transfer funds.\")\n",
    "        else:\n",
    "            print(\"Insufficient balance.\")\n",
    "\n",
    "    def loan(self):\n",
    "        loan_amount = 2 * self.balance\n",
    "        self.balance += loan_amount\n",
    "        self.transaction_history.append(f\"Loan taken: {loan_amount}\")\n",
    "        User.bank_balance += loan_amount\n",
    "        print(f\"Loan of {loan_amount} has been credited to your account.\")\n",
    "\n",
    "    def view_transaction_history(self):\n",
    "        print(\"Transaction History:\")\n",
    "        for transaction in self.transaction_history:\n",
    "            print(transaction)\n"
   ]
  },
  {
   "cell_type": "code",
   "execution_count": 2,
   "id": "2365754d",
   "metadata": {},
   "outputs": [
    {
     "name": "stdout",
     "output_type": "stream",
     "text": [
      "Amount 500 deposited successfully.\n",
      "Amount 200 withdrawn successfully.\n",
      "Amount 1000 deposited successfully.\n",
      "Amount 500 withdrawn successfully.\n",
      "Available balance: 1300\n",
      "Available balance: 2500\n",
      "Amount 500 transferred successfully to User 2.\n",
      "Loan of 1600 has been credited to your account.\n",
      "Transaction History:\n",
      "Deposited: 500\n",
      "Withdrawn: 200\n",
      "Transferred: 500 to 987654321\n",
      "Loan taken: 1600\n",
      "Transaction History:\n",
      "Deposited: 1000\n",
      "Withdrawn: 500\n"
     ]
    }
   ],
   "source": [
    "user1 = User(\"user1@example.com\", \"password1\", \"User 1\", \"123456789\", initial_deposit=1000)\n",
    "user2 = User(\"user2@example.com\", \"password2\", \"User 2\", \"987654321\", initial_deposit=2000)\n",
    "\n",
    "user1.deposit(500)\n",
    "user1.withdraw(200)\n",
    "user2.deposit(1000)\n",
    "user2.withdraw(500)\n",
    "\n",
    "user1.check_balance()  \n",
    "user2.check_balance()  \n",
    "\n",
    "user1.transfer(500, user2)\n",
    "\n",
    "user1.loan()\n",
    "\n",
    "user1.view_transaction_history()\n",
    "user2.view_transaction_history()\n"
   ]
  },
  {
   "cell_type": "code",
   "execution_count": 11,
   "id": "b5cf0d2e",
   "metadata": {},
   "outputs": [],
   "source": [
    "class Admin:\n",
    "    def __init__(self):\n",
    "        self.bank_balance = 0\n",
    "\n",
    "    def create_account(self, email, password, name, account_number, initial_deposit=0):\n",
    "        user = User(email, password, name, account_number, initial_deposit)\n",
    "        self.bank_balance += initial_deposit\n",
    "        print(f\"Account created successfully for {name} with account number {account_number}.\")\n",
    "        return user\n",
    "\n",
    "    def check_bank_balance(self):\n",
    "        print(f\"Total available balance of the bank: {self.bank_balance}\")\n",
    "\n",
    "    def check_loan_amount(self):\n",
    "        total_loan_amount = sum(2 * user.balance for user in User.instances)\n",
    "        print(f\"Total loan amount in the bank: {total_loan_amount}\")\n",
    "\n",
    "  \n"
   ]
  },
  {
   "cell_type": "code",
   "execution_count": 13,
   "id": "31ae411a",
   "metadata": {},
   "outputs": [
    {
     "name": "stdout",
     "output_type": "stream",
     "text": [
      "Account created successfully for User 1 with account number 123456789.\n",
      "Account created successfully for User 2 with account number 987654321.\n",
      "Total available balance of the bank: 1000\n",
      "Total available balance of the bank: 2000\n"
     ]
    },
    {
     "ename": "AttributeError",
     "evalue": "type object 'User' has no attribute 'instances'",
     "output_type": "error",
     "traceback": [
      "\u001b[1;31m---------------------------------------------------------------------------\u001b[0m",
      "\u001b[1;31mAttributeError\u001b[0m                            Traceback (most recent call last)",
      "\u001b[1;32m~\\AppData\\Local\\Temp/ipykernel_5772/3638793760.py\u001b[0m in \u001b[0;36m<module>\u001b[1;34m\u001b[0m\n\u001b[0;32m      8\u001b[0m \u001b[0madmin2\u001b[0m\u001b[1;33m.\u001b[0m\u001b[0mcheck_bank_balance\u001b[0m\u001b[1;33m(\u001b[0m\u001b[1;33m)\u001b[0m\u001b[1;33m\u001b[0m\u001b[1;33m\u001b[0m\u001b[0m\n\u001b[0;32m      9\u001b[0m \u001b[1;33m\u001b[0m\u001b[0m\n\u001b[1;32m---> 10\u001b[1;33m \u001b[0madmin1\u001b[0m\u001b[1;33m.\u001b[0m\u001b[0mcheck_loan_amount\u001b[0m\u001b[1;33m(\u001b[0m\u001b[1;33m)\u001b[0m\u001b[1;33m\u001b[0m\u001b[1;33m\u001b[0m\u001b[0m\n\u001b[0m\u001b[0;32m     11\u001b[0m \u001b[0madmin2\u001b[0m\u001b[1;33m.\u001b[0m\u001b[0mcheck_loan_amount\u001b[0m\u001b[1;33m(\u001b[0m\u001b[1;33m)\u001b[0m\u001b[1;33m\u001b[0m\u001b[1;33m\u001b[0m\u001b[0m\n",
      "\u001b[1;32m~\\AppData\\Local\\Temp/ipykernel_5772/549811358.py\u001b[0m in \u001b[0;36mcheck_loan_amount\u001b[1;34m(self)\u001b[0m\n\u001b[0;32m     14\u001b[0m \u001b[1;33m\u001b[0m\u001b[0m\n\u001b[0;32m     15\u001b[0m     \u001b[1;32mdef\u001b[0m \u001b[0mcheck_loan_amount\u001b[0m\u001b[1;33m(\u001b[0m\u001b[0mself\u001b[0m\u001b[1;33m)\u001b[0m\u001b[1;33m:\u001b[0m\u001b[1;33m\u001b[0m\u001b[1;33m\u001b[0m\u001b[0m\n\u001b[1;32m---> 16\u001b[1;33m         \u001b[0mtotal_loan_amount\u001b[0m \u001b[1;33m=\u001b[0m \u001b[0msum\u001b[0m\u001b[1;33m(\u001b[0m\u001b[1;36m2\u001b[0m \u001b[1;33m*\u001b[0m \u001b[0muser\u001b[0m\u001b[1;33m.\u001b[0m\u001b[0mbalance\u001b[0m \u001b[1;32mfor\u001b[0m \u001b[0muser\u001b[0m \u001b[1;32min\u001b[0m \u001b[0mUser\u001b[0m\u001b[1;33m.\u001b[0m\u001b[0minstances\u001b[0m\u001b[1;33m)\u001b[0m\u001b[1;33m\u001b[0m\u001b[1;33m\u001b[0m\u001b[0m\n\u001b[0m\u001b[0;32m     17\u001b[0m         \u001b[0mprint\u001b[0m\u001b[1;33m(\u001b[0m\u001b[1;34mf\"Total loan amount in the bank: {total_loan_amount}\"\u001b[0m\u001b[1;33m)\u001b[0m\u001b[1;33m\u001b[0m\u001b[1;33m\u001b[0m\u001b[0m\n\u001b[0;32m     18\u001b[0m \u001b[1;33m\u001b[0m\u001b[0m\n",
      "\u001b[1;31mAttributeError\u001b[0m: type object 'User' has no attribute 'instances'"
     ]
    }
   ],
   "source": [
    "\n",
    "admin1 = Admin()\n",
    "admin2 = Admin()\n",
    "\n",
    "admin1.create_account(\"user1@example.com\", \"password1\", \"User 1\", \"123456789\", initial_deposit=1000)\n",
    "admin2.create_account(\"user2@example.com\", \"password2\", \"User 2\", \"987654321\", initial_deposit=2000)\n",
    "\n",
    "admin1.check_bank_balance()  \n",
    "admin2.check_bank_balance()  \n",
    "\n",
    "admin1.check_loan_amount()  \n",
    "admin2.check_loan_amount()  \n"
   ]
  },
  {
   "cell_type": "code",
   "execution_count": null,
   "id": "da5a9608",
   "metadata": {},
   "outputs": [],
   "source": []
  }
 ],
 "metadata": {
  "kernelspec": {
   "display_name": "Python 3 (ipykernel)",
   "language": "python",
   "name": "python3"
  },
  "language_info": {
   "codemirror_mode": {
    "name": "ipython",
    "version": 3
   },
   "file_extension": ".py",
   "mimetype": "text/x-python",
   "name": "python",
   "nbconvert_exporter": "python",
   "pygments_lexer": "ipython3",
   "version": "3.9.7"
  }
 },
 "nbformat": 4,
 "nbformat_minor": 5
}
